{
 "cells": [
  {
   "cell_type": "markdown",
   "metadata": {},
   "source": [
    "## Introduction/Business Problem"
   ]
  },
  {
   "cell_type": "markdown",
   "metadata": {},
   "source": [
    "When I think of the essentials in my life, I think of shelter, water, and food. The latter is one that I especially think about when I go off to foreign places. For example, when I visited Boston, I was thinking about what food places to go to for lunch/dinner each day, among the other activities I would be doing there. In particular, I am very interested in the Asian restaurants, because they make me feel at home and much more comfortable when in a foreign area. Thus, this data science project will explore the relative density and availability of Asian cuisines/food places  in relatively popular cities."
   ]
  },
  {
   "cell_type": "code",
   "execution_count": null,
   "metadata": {},
   "outputs": [],
   "source": []
  }
 ],
 "metadata": {
  "kernelspec": {
   "display_name": "Python 3",
   "language": "python",
   "name": "python3"
  },
  "language_info": {
   "codemirror_mode": {
    "name": "ipython",
    "version": 3
   },
   "file_extension": ".py",
   "mimetype": "text/x-python",
   "name": "python",
   "nbconvert_exporter": "python",
   "pygments_lexer": "ipython3",
   "version": "3.7.4"
  }
 },
 "nbformat": 4,
 "nbformat_minor": 2
}
