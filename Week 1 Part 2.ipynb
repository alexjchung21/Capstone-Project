{
 "cells": [
  {
   "cell_type": "markdown",
   "metadata": {},
   "source": [
    "## Introduction/Business Problem"
   ]
  },
  {
   "cell_type": "markdown",
   "metadata": {},
   "source": [
    "When I think of the essentials in my life, I think of shelter, water, and food. The latter is one that I especially think about when I go off to foreign places. For example, when I visited Boston, I was thinking about what food places to go to for lunch/dinner each day, among the other activities I would be doing there. In particular, I am very interested in the Asian restaurants, because they make me feel at home and much more comfortable when in a foreign area. Thus, this data science project will explore the relative density and availability of Asian cuisines/food places  in relatively popular cities."
   ]
  },
  {
   "cell_type": "markdown",
   "metadata": {},
   "source": [
    "## Data"
   ]
  },
  {
   "cell_type": "markdown",
   "metadata": {},
   "source": [
    "To pursue this research project, we will be using the Foursquare API in order to collect data regarding the availability of Asian food places and restaurants in a few prominent locations. We will be taking data regarding the 5 major locations Boston, New York, Chicago, San Francisco, and Dallas. Collecting this data, we will determine the relative density of Asian restaurants in these locations and calculate the average distance to a central point to find how close everything is clustered together for accessibility. "
   ]
  },
  {
   "cell_type": "code",
   "execution_count": null,
   "metadata": {},
   "outputs": [],
   "source": []
  }
 ],
 "metadata": {
  "kernelspec": {
   "display_name": "Python 3",
   "language": "python",
   "name": "python3"
  },
  "language_info": {
   "codemirror_mode": {
    "name": "ipython",
    "version": 3
   },
   "file_extension": ".py",
   "mimetype": "text/x-python",
   "name": "python",
   "nbconvert_exporter": "python",
   "pygments_lexer": "ipython3",
   "version": "3.7.4"
  }
 },
 "nbformat": 4,
 "nbformat_minor": 2
}
